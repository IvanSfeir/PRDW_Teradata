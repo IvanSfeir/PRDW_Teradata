{
 "cells": [
  {
   "cell_type": "code",
   "execution_count": 1,
   "metadata": {},
   "outputs": [],
   "source": [
    "import matplotlib.pyplot as plt"
   ]
  },
  {
   "cell_type": "code",
   "execution_count": 26,
   "metadata": {},
   "outputs": [],
   "source": [
    "coords = list(zip([2.413639406226481, 48.84230823563937], [2.41356196944044, 48.841500088154156], [2.413471714637486, 48.84073267387704], [2.412759779977871, 48.83809373172694], [2.412072356261253, 48.83617824038962], [2.411954572001422, 48.83587840753444], [2.41176181545694, 48.83561655822135]))"
   ]
  },
  {
   "cell_type": "code",
   "execution_count": 27,
   "metadata": {},
   "outputs": [
    {
     "data": {
      "text/plain": [
       "[<matplotlib.lines.Line2D at 0x1b62193f630>,\n",
       " <matplotlib.lines.Line2D at 0x1b62193f7b8>,\n",
       " <matplotlib.lines.Line2D at 0x1b62193f908>,\n",
       " <matplotlib.lines.Line2D at 0x1b62193fa58>,\n",
       " <matplotlib.lines.Line2D at 0x1b62193fba8>,\n",
       " <matplotlib.lines.Line2D at 0x1b62193fcf8>,\n",
       " <matplotlib.lines.Line2D at 0x1b62193fe48>]"
      ]
     },
     "execution_count": 27,
     "metadata": {},
     "output_type": "execute_result"
    },
    {
     "data": {
      "image/png": "[encoded data removed]",
      "text/plain": [
       "<Figure size 432x288 with 1 Axes>"
      ]
     },
     "metadata": {
      "needs_background": "light"
     },
     "output_type": "display_data"
    }
   ],
   "source": [
    "plt.plot(coords)"
   ]
  },
  {
   "cell_type": "code",
   "execution_count": 13,
   "metadata": {},
   "outputs": [],
   "source": [
    "coords = set(zip([2.365646108805653, 48.81899859521885], [2.365892821554623, 48.81918470934827], [2.365968968965595, 48.81966459950088], [2.36613628398442, 48.820347196306955]))"
   ]
  },
  {
   "cell_type": "code",
   "execution_count": 15,
   "metadata": {},
   "outputs": [
    {
     "data": {
      "text/plain": [
       "[(48.81899859521885, 48.81918470934827, 48.81966459950088, 48.820347196306955),\n",
       " (2.365646108805653, 2.365892821554623, 2.365968968965595, 2.36613628398442)]"
      ]
     },
     "execution_count": 15,
     "metadata": {},
     "output_type": "execute_result"
    }
   ],
   "source": [
    "list(coords)"
   ]
  },
  {
   "cell_type": "code",
   "execution_count": 7,
   "metadata": {},
   "outputs": [],
   "source": [
    "a = b = c = range(20)"
   ]
  },
  {
   "cell_type": "code",
   "execution_count": 16,
   "metadata": {},
   "outputs": [
    {
     "data": {
      "text/plain": [
       "[(0, 0, 0),\n",
       " (1, 1, 1),\n",
       " (2, 2, 2),\n",
       " (3, 3, 3),\n",
       " (4, 4, 4),\n",
       " (5, 5, 5),\n",
       " (6, 6, 6),\n",
       " (7, 7, 7),\n",
       " (8, 8, 8),\n",
       " (9, 9, 9),\n",
       " (10, 10, 10),\n",
       " (11, 11, 11),\n",
       " (12, 12, 12),\n",
       " (13, 13, 13),\n",
       " (14, 14, 14),\n",
       " (15, 15, 15),\n",
       " (16, 16, 16),\n",
       " (17, 17, 17),\n",
       " (18, 18, 18),\n",
       " (19, 19, 19)]"
      ]
     },
     "execution_count": 16,
     "metadata": {},
     "output_type": "execute_result"
    }
   ],
   "source": [
    "list(zip(a,b,c))"
   ]
  },
  {
   "cell_type": "code",
   "execution_count": null,
   "metadata": {},
   "outputs": [],
   "source": []
  }
 ],
 "metadata": {
  "kernelspec": {
   "display_name": "Python 3",
   "language": "python",
   "name": "python3"
  },
  "language_info": {
   "codemirror_mode": {
    "name": "ipython",
    "version": 3
   },
   "file_extension": ".py",
   "mimetype": "text/x-python",
   "name": "python",
   "nbconvert_exporter": "python",
   "pygments_lexer": "ipython3",
   "version": "3.7.0"
  }
 },
 "nbformat": 4,
 "nbformat_minor": 2
}
