{
 "cells": [
  {
   "cell_type": "code",
   "execution_count": 1,
   "metadata": {},
   "outputs": [],
   "source": [
    "import pandas as pd\n",
    "import numpy as np"
   ]
  },
  {
   "cell_type": "code",
   "execution_count": 13,
   "metadata": {},
   "outputs": [],
   "source": [
    "df = pd.read_csv('../Data/referentials/referentiel-comptages-routiers+arrondissements+limites.csv', header=None, delimiter=';')"
   ]
  },
  {
   "cell_type": "code",
   "execution_count": 14,
   "metadata": {},
   "outputs": [
    {
     "data": {
      "text/html": [
       "<div>\n",
       "<style scoped>\n",
       "    .dataframe tbody tr th:only-of-type {\n",
       "        vertical-align: middle;\n",
       "    }\n",
       "\n",
       "    .dataframe tbody tr th {\n",
       "        vertical-align: top;\n",
       "    }\n",
       "\n",
       "    .dataframe thead th {\n",
       "        text-align: right;\n",
       "    }\n",
       "</style>\n",
       "<table border=\"1\" class=\"dataframe\">\n",
       "  <thead>\n",
       "    <tr style=\"text-align: right;\">\n",
       "      <th></th>\n",
       "      <th>0</th>\n",
       "      <th>1</th>\n",
       "      <th>2</th>\n",
       "      <th>3</th>\n",
       "      <th>4</th>\n",
       "      <th>5</th>\n",
       "      <th>6</th>\n",
       "      <th>7</th>\n",
       "      <th>8</th>\n",
       "      <th>9</th>\n",
       "      <th>10</th>\n",
       "      <th>11</th>\n",
       "    </tr>\n",
       "  </thead>\n",
       "  <tbody>\n",
       "    <tr>\n",
       "      <th>0</th>\n",
       "      <td>1009</td>\n",
       "      <td>1106.0</td>\n",
       "      <td>4301.0</td>\n",
       "      <td>0.0</td>\n",
       "      <td>{\"type\": \"LineString\", \"coordinates\": [[2.2879...</td>\n",
       "      <td>2.286682</td>\n",
       "      <td>48.880469</td>\n",
       "      <td>75017</td>\n",
       "      <td>2.287980</td>\n",
       "      <td>48.880174</td>\n",
       "      <td>2.285384</td>\n",
       "      <td>48.880764</td>\n",
       "    </tr>\n",
       "    <tr>\n",
       "      <th>1</th>\n",
       "      <td>1013</td>\n",
       "      <td>1110.0</td>\n",
       "      <td>5868.0</td>\n",
       "      <td>0.0</td>\n",
       "      <td>{\"type\": \"LineString\", \"coordinates\": [[2.4033...</td>\n",
       "      <td>2.404492</td>\n",
       "      <td>48.836202</td>\n",
       "      <td>75012</td>\n",
       "      <td>2.403380</td>\n",
       "      <td>48.836600</td>\n",
       "      <td>2.405605</td>\n",
       "      <td>48.835804</td>\n",
       "    </tr>\n",
       "    <tr>\n",
       "      <th>2</th>\n",
       "      <td>1016</td>\n",
       "      <td>1114.0</td>\n",
       "      <td>242.0</td>\n",
       "      <td>0.0</td>\n",
       "      <td>{\"type\": \"LineString\", \"coordinates\": [[2.3237...</td>\n",
       "      <td>2.323437</td>\n",
       "      <td>48.868812</td>\n",
       "      <td>75008</td>\n",
       "      <td>2.323723</td>\n",
       "      <td>48.869214</td>\n",
       "      <td>2.323151</td>\n",
       "      <td>48.868409</td>\n",
       "    </tr>\n",
       "    <tr>\n",
       "      <th>3</th>\n",
       "      <td>1027</td>\n",
       "      <td>1125.0</td>\n",
       "      <td>1368.0</td>\n",
       "      <td>0.0</td>\n",
       "      <td>{\"type\": \"LineString\", \"coordinates\": [[2.3668...</td>\n",
       "      <td>2.366342</td>\n",
       "      <td>48.863919</td>\n",
       "      <td>75011</td>\n",
       "      <td>2.366809</td>\n",
       "      <td>48.863175</td>\n",
       "      <td>2.365876</td>\n",
       "      <td>48.864664</td>\n",
       "    </tr>\n",
       "    <tr>\n",
       "      <th>4</th>\n",
       "      <td>1028</td>\n",
       "      <td>1126.0</td>\n",
       "      <td>1366.0</td>\n",
       "      <td>0.0</td>\n",
       "      <td>{\"type\": \"LineString\", \"coordinates\": [[2.3658...</td>\n",
       "      <td>2.365704</td>\n",
       "      <td>48.864964</td>\n",
       "      <td>75011</td>\n",
       "      <td>2.365876</td>\n",
       "      <td>48.864664</td>\n",
       "      <td>2.365531</td>\n",
       "      <td>48.865264</td>\n",
       "    </tr>\n",
       "  </tbody>\n",
       "</table>\n",
       "</div>"
      ],
      "text/plain": [
       "     0       1       2    3   \\\n",
       "0  1009  1106.0  4301.0  0.0   \n",
       "1  1013  1110.0  5868.0  0.0   \n",
       "2  1016  1114.0   242.0  0.0   \n",
       "3  1027  1125.0  1368.0  0.0   \n",
       "4  1028  1126.0  1366.0  0.0   \n",
       "\n",
       "                                                  4         5          6   \\\n",
       "0  {\"type\": \"LineString\", \"coordinates\": [[2.2879...  2.286682  48.880469   \n",
       "1  {\"type\": \"LineString\", \"coordinates\": [[2.4033...  2.404492  48.836202   \n",
       "2  {\"type\": \"LineString\", \"coordinates\": [[2.3237...  2.323437  48.868812   \n",
       "3  {\"type\": \"LineString\", \"coordinates\": [[2.3668...  2.366342  48.863919   \n",
       "4  {\"type\": \"LineString\", \"coordinates\": [[2.3658...  2.365704  48.864964   \n",
       "\n",
       "      7         8          9         10         11  \n",
       "0  75017  2.287980  48.880174  2.285384  48.880764  \n",
       "1  75012  2.403380  48.836600  2.405605  48.835804  \n",
       "2  75008  2.323723  48.869214  2.323151  48.868409  \n",
       "3  75011  2.366809  48.863175  2.365876  48.864664  \n",
       "4  75011  2.365876  48.864664  2.365531  48.865264  "
      ]
     },
     "execution_count": 14,
     "metadata": {},
     "output_type": "execute_result"
    }
   ],
   "source": [
    "df.head()"
   ]
  },
  {
   "cell_type": "code",
   "execution_count": 20,
   "metadata": {},
   "outputs": [
    {
     "data": {
      "text/plain": [
       "0"
      ]
     },
     "execution_count": 20,
     "metadata": {},
     "output_type": "execute_result"
    }
   ],
   "source": [
    "len([e for e in list(pd.notna(df)[7]) if not e])"
   ]
  },
  {
   "cell_type": "code",
   "execution_count": 21,
   "metadata": {},
   "outputs": [
    {
     "data": {
      "text/plain": [
       "(3313, 12)"
      ]
     },
     "execution_count": 21,
     "metadata": {},
     "output_type": "execute_result"
    }
   ],
   "source": [
    "df.shape"
   ]
  },
  {
   "cell_type": "code",
   "execution_count": null,
   "metadata": {},
   "outputs": [],
   "source": []
  }
 ],
 "metadata": {
  "kernelspec": {
   "display_name": "Python 3",
   "language": "python",
   "name": "python3"
  },
  "language_info": {
   "codemirror_mode": {
    "name": "ipython",
    "version": 3
   },
   "file_extension": ".py",
   "mimetype": "text/x-python",
   "name": "python",
   "nbconvert_exporter": "python",
   "pygments_lexer": "ipython3",
   "version": "3.7.0"
  }
 },
 "nbformat": 4,
 "nbformat_minor": 2
}
